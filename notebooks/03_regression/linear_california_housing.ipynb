{
  "cells": [
    {
      "cell_type": "markdown",
      "metadata": {},
      "source": [
        "# Regressão Linear para Previsão de Preços de Imóveis"
      ]
    },
    {
      "cell_type": "markdown",
      "metadata": {},
      "source": [
        "## 1. Objetivo do Estudo\n\n",
        "Construir um modelo de regressão linear para prever o valor mediano das casas no dataset California Housing, avaliando a qualidade do modelo e a importância das variáveis."
      ]
    },
    {
      "cell_type": "markdown",
      "metadata": {},
      "source": [
        "## 2. Fonte & Licença\n\n",
        "Dataset *California Housing* (scikit-learn). Licença: BSD-3 Clause."
      ]
    },
    {
      "cell_type": "markdown",
      "metadata": {},
      "source": [
        "## 3. Dicionário de Dados\n\n",
        "- `MedInc`: Renda mediana.\n- `HouseAge`: Idade mediana da casa.\n- `AveRooms`: Média de quartos.\n- `MedHouseVal`: Valor mediano da casa (alvo)."
      ]
    },
    {
      "cell_type": "markdown",
      "metadata": {},
      "source": [
        "## 4. Metodologia\n\n",
        "Carregamento do dataset California Housing. Análise de correlação. Ajuste do modelo de Regressão Linear Múltipla (OLS) usando `statsmodels`. Verificação dos pressupostos (linearidade, normalidade dos resíduos, homocedasticidade). Análise de multicolinearidade (VIF). Interpretação dos coeficientes e métricas do modelo."
      ]
    },
    {
      "cell_type": "markdown",
      "metadata": {},
      "source": [
        "## 5. Análise e Resultados"
      ]
    },
    {
      "cell_type": "code",
      "execution_count": null,
      "metadata": {},
      "outputs": [],
      "source": [
        "# Imports iniciais\n",
        "import pandas as pd\n",
        "import numpy as np\n",
        "import seaborn as sns\n",
        "import matplotlib.pyplot as plt\n",
        "import statsmodels.api as sm\n",
        "import scipy.stats as stats\n",
        "from statsmodels.stats.outliers_influence import variance_inflation_factor\n",
        "from src.data.loaders import load_california_housing\n\n",
        "# Configurações de visualização\n",
        "sns.set_style('whitegrid')\n",
        "plt.rcParams['figure.figsize'] = (12, 6)\n",
        "np.random.seed(42) # Para reprodutibilidade\n\n",
        "# 5.1. Carregar e Preparar os Dados\n",
        "df = load_california_housing()\n",
        "\n",
        "# Variável dependente (y) e independentes (X)\n",
        "y = np.log(df['MedHouseVal']) # Usando log-transformação para normalizar a distribuição\n",
        "X = df[['MedInc', 'HouseAge', 'AveRooms', 'AveBedrms', 'Population', 'AveOccup', 'Latitude', 'Longitude']]\n",
        "\n",
        "# Adicionar uma constante ao modelo (necessário para statsmodels)\n",
        "X = sm.add_constant(X)\n",
        "\n",
        "print(\"Primeiras 5 linhas das variáveis independentes (X):\")\n",
        "print(X.head())\n",
        "print(\"\nPrimeiras 5 linhas da variável dependente (y):\")\n",
        "print(y.head())\n",
        "\n",
        "# 5.2. Análise de Correlação\n",
        "plt.figure(figsize=(10, 8))\n",
        "sns.heatmap(df.corr(numeric_only=True), annot=True, cmap='coolwarm', fmt=\".2f\")\n",
        "plt.title('Matriz de Correlação das Variáveis')\n",
        "plt.show()\n",
        "\n",
        "# 5.3. Ajuste do Modelo de Regressão Linear (OLS)\n",
        "model = sm.OLS(y, X).fit()\n",
        "print(\"\nResumo do Modelo de Regressão Linear:\")\n",
        "print(model.summary())\n",
        "\n",
        "# 5.4. Verificação dos Pressupostos\n",
        "# Resíduos\n",
        "residuals = model.resid\n",
        "fitted_values = model.fittedvalues\n",
        "\n",
        "# Linearidade e Homocedasticidade (Resíduos vs. Valores Ajustados)\n",
        "plt.figure(figsize=(14, 6))\n",
        "sns.scatterplot(x=fitted_values, y=residuals)\n",
        "plt.axhline(y=0, color='r', linestyle='--')\n",
        "plt.title('Resíduos vs. Valores Ajustados')\n",
        "plt.xlabel('Valores Ajustados')\n",
        "plt.ylabel('Resíduos')\n",
        "plt.show()\n",
        "\n",
        "# Normalidade dos Resíduos (QQ-Plot)\n",
        "plt.figure(figsize=(8, 8))\n",
        "stats.probplot(residuals, dist=\"norm\", plot=plt)\n",
        "plt.title('QQ-Plot dos Resíduos')\n",
        "plt.show()\n",
        "\n",
        "# Teste de Normalidade dos Resíduos (Shapiro-Wilk)\n",
        "shapiro_res = stats.shapiro(residuals)\n",
        "print(f\"\nTeste de Shapiro-Wilk para Resíduos: W={shapiro_res.statistic:.3f}, p={shapiro_res.pvalue:.3f}\")\n",
        "if shapiro_res.pvalue > 0.05:\n",
        "    print(\"  Não há evidências para rejeitar a hipótese nula de normalidade dos resíduos.\")\n",
        "else:\n",
        "    print(\"  Há evidências para rejeitar a hipótese nula de normalidade dos resíduos.\")\n",
        "\n",
        "# 5.5. Análise de Multicolinearidade (VIF)\n",
        "# Remover a constante antes de calcular o VIF\n",
        "vif_data = pd.DataFrame()\n",
        "vif_data['feature'] = X.columns\n",
        "vif_data['VIF'] = [variance_inflation_factor(X.values, i) for i in range(X.shape[1])]\n",
        "print(\"\nFatores de Inflação da Variância (VIF):\")\n",
        "print(vif_data.sort_values(by='VIF', ascending=False))\n"
      ]
    },
    {
      "cell_type": "markdown",
      "metadata": {},
      "source": [
        "## 6. Interpretação\n\n",
        "- **Resumo do Modelo**: A tabela de resumo do `statsmodels` fornece uma riqueza de informações, incluindo os coeficientes de regressão, seus p-valores, R-quadrado, R-quadrado ajustado e estatísticas de teste F.\n",
        "- **Coeficientes**: Cada coeficiente indica a mudança esperada na variável dependente (log do valor da casa) para cada unidade de aumento na variável independente correspondente, mantendo as outras variáveis constantes. Coeficientes com p-valores baixos (tipicamente < 0.05) são considerados estatisticamente significativos.\n",
        "- **R-quadrado e R-quadrado Ajustado**: O R-quadrado indica a proporção da variância na variável dependente que é explicada pelo modelo. O R-quadrado ajustado é uma versão modificada que penaliza a inclusão de preditores desnecessários, sendo mais útil para comparar modelos com diferentes números de preditores.\n",
        "- **Pressupostos**: A verificação dos pressupostos é crucial para a validade do modelo:\n",
        "  - **Linearidade e Homocedasticidade**: O gráfico de resíduos versus valores ajustados deve mostrar uma dispersão aleatória dos pontos em torno de zero, sem padrões visíveis (linearidade) e com uma variância constante (homocedasticidade). Padrões como funil ou curvas indicam violação.\n",
        "  - **Normalidade dos Resíduos**: O QQ-Plot e o teste de Shapiro-Wilk ajudam a verificar se os resíduos seguem uma distribuição normal. Resíduos normais são um pressuposto para a inferência estatística (p-valores, intervalos de confiança).\n",
        "- **Multicolinearidade (VIF)**: Valores de VIF acima de 5 ou 10 indicam multicolinearidade significativa, o que pode tornar os coeficientes de regressão instáveis e difíceis de interpretar. Nesses casos, pode ser necessário remover variáveis ou combiná-las."
      ]
    },
    {
      "cell_type": "markdown",
      "metadata": {},
      "source": [
        "## 7. Limitações\n\n",
        "- A regressão linear assume uma relação linear entre as variáveis. Se a relação for não linear, o modelo pode não ser adequado.\n",
        "- A qualidade do modelo depende da satisfação dos pressupostos. Violações severas podem levar a conclusões inválidas.\n",
        "- A transformação logarítmica da variável dependente facilita a modelagem, mas a interpretação dos coeficientes na escala original requer exponenciação.\n",
        "- O modelo não considera fatores externos não incluídos nas variáveis, que podem influenciar o preço das casas."
      ]
    },
    {
      "cell_type": "markdown",
      "metadata": {},
      "source": [
        "## 8. Reprodutibilidade\n\n",
        "- **Semente Aleatória**: `np.random.seed(42)` foi utilizada para garantir a reprodutibilidade de quaisquer processos aleatórios.\n",
        "- **Versões das Bibliotecas**: As versões das bibliotecas utilizadas podem ser verificadas executando `pip freeze` no ambiente do projeto."
      ]
    }
  ],
  "metadata": {
    "kernelspec": {
      "display_name": "Python 3 (ipykernel)",
      "language": "python",
      "name": "python3"
    },
    "language_info": {
      "codemirror_mode": {
        "name": "ipython",
        "version": 3
      },
      "file_extension": ".py",
      "mimetype": "text/x-python",
      "name": "python",
      "nbconvert_exporter": "python",
      "pygments_lexer": "ipython3",
      "version": "3.11.5"
    }
  },
  "nbformat": 4,
  "nbformat_minor": 2
}