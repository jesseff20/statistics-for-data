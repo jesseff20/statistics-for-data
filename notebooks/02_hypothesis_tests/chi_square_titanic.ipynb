{
  "cells": [
    {
      "cell_type": "markdown",
      "metadata": {},
      "source": [
        "# Teste Qui-Quadrado de Independência no Dataset Titanic\n",
        "\n",
        "**Autor:** Jesse Fernandes  \n",
        "**Data:** 2025-09-29"
      ]
    },
    {
      "cell_type": "markdown",
      "metadata": {},
      "source": [
        "## 1. Objetivo do Estudo\n",
        "\n",
        "Investigar se existe uma associação estatisticamente significativa entre a classe socioeconômica do passageiro e sua sobrevivência no desastre do Titanic."
      ]
    },
    {
      "cell_type": "markdown",
      "metadata": {},
      "source": [
        "## 2. Fonte & Licença\n",
        "\n",
        "Dataset *Titanic* (disponível via Seaborn). Licença: Domínio Público."
      ]
    },
    {
      "cell_type": "markdown",
      "metadata": {},
      "source": [
        "## 3. Dicionário de Dados\n",
        "\n",
        "- `Pclass`: Classe do passageiro (1ª, 2ª, 3ª).\n",
        "- `Survived`: Sobrevivente (0 = Não, 1 = Sim)."
      ]
    },
    {
      "cell_type": "markdown",
      "metadata": {},
      "source": [
        "## 4. Metodologia\n",
        "\n",
        "Carregamento do dataset Titanic. Criação de uma tabela de contingência entre `Pclass` e `Survived`. Aplicação do teste Qui-quadrado de independência. Análise de resíduos padronizados para identificar as células que mais contribuem para a associação."
      ]
    },
    {
      "cell_type": "markdown",
      "metadata": {},
      "source": [
        "## 5. Análise e Resultados"
      ]
    },
    {
      "cell_type": "code",
      "execution_count": null,
      "metadata": {},
      "outputs": [],
      "source": [
        "# Imports iniciais\n",
        "import pandas as pd\n",
        "import numpy as np\n",
        "import seaborn as sns\n",
        "import matplotlib.pyplot as plt\n",
        "import scipy.stats as stats\n",
        "\n",
        "# Configurações de visualização\n",
        "sns.set_style('whitegrid')\n",
        "plt.rcParams['figure.figsize'] = (10, 7)\n",
        "np.random.seed(42) # Para reprodutibilidade\n",
        "\n",
        "# 5.1. Carregar e Preparar os Dados\n",
        "# O dataset Titanic está disponível diretamente no Seaborn\n",
        "df_titanic = sns.load_dataset('titanic')\n",
        "\n",
        "# Selecionar variáveis de interesse e remover valores ausentes para simplificar\n",
        "df_analysis = df_titanic[['pclass', 'survived']].dropna()\n",
        "\n",
        "print(\"Primeiras 5 linhas do dataset para análise:\")\n",
        "print(df_analysis.head())\n",
        "\n",
        "# 5.2. Criação da Tabela de Contingência\n",
        "contingency_table = pd.crosstab(df_analysis['pclass'], df_analysis['survived'])\n",
        "contingency_table.columns = ['Não Sobreviveu', 'Sobreviveu']\n",
        "contingency_table.index = ['1ª Classe', '2ª Classe', '3ª Classe']\n",
        "\n",
        "print(\"\n",
        "Tabela de Contingência (Classe vs. Sobrevivência):\")\n",
        "print(contingency_table)\n",
        "\n",
        "# 5.3. Aplicação do Teste Qui-Quadrado de Independência\n",
        "chi2, p_value, dof, expected_freq = stats.chi2_contingency(contingency_table)\n",
        "\n",
        "print(f\"\n",
        "Resultado do Teste Qui-Quadrado:\")\n",
        "print(f\"Estatística Qui-Quadrado: {chi2:.3f}\")\n",
        "print(f\"p-valor: {p_value:.3f}\")\n",
        "print(f\"Graus de Liberdade (dof): {dof}\")\n",
        "print(\"Frequências Esperadas:\")\n",
        "print(pd.DataFrame(expected_freq, columns=contingency_table.columns, index=contingency_table.index))\n",
        "\n",
        "alpha = 0.05\n",
        "if p_value < alpha:\n",
        "    print(f\"Com p-valor ({p_value:.3f}) < {alpha}, rejeitamos a hipótese nula. Há uma associação significativa entre a classe e a sobrevivência.\")\n",
        "else:\n",
        "    print(f\"Com p-valor ({p_value:.3f}) >= {alpha}, não rejeitamos a hipótese nula. Não há associação significativa entre a classe e a sobrevivência.\")\n",
        "\n",
        "# 5.4. Análise de Resíduos Padronizados\n",
        "# Resíduos padronizados ajudam a identificar quais células contribuem mais para a associação.\n",
        "# Resíduos > 2 ou < -2 são geralmente considerados significativos.\n",
        "standardized_residuals = (contingency_table - expected_freq) / np.sqrt(expected_freq)\n",
        "print(\"\n",
        "Resíduos Padronizados:\")\n",
        "print(standardized_residuals)\n",
        "\n",
        "plt.figure(figsize=(8, 6))\n",
        "sns.heatmap(standardized_residuals, annot=True, fmt=\".2f\", cmap='coolwarm', center=0,\n",
        "            linewidths=.5, linecolor='black')\n",
        "plt.title('Heatmap de Resíduos Padronizados (Classe vs. Sobrevivência)')\n",
        "plt.xlabel('Sobrevivência')\n",
        "plt.ylabel('Classe')\n",
        "plt.show()\n"
      ]
    },
    {
      "cell_type": "markdown",
      "metadata": {},
      "source": [
        "## 6. Interpretação\n",
        "\n",
        "- **Tabela de Contingência**: Mostra a frequência observada de cada combinação de classe e status de sobrevivência.\n",
        "- **Teste Qui-Quadrado**: O p-valor do teste Qui-Quadrado de independência indica se a associação observada entre as variáveis é estatisticamente significativa. Um p-valor baixo (tipicamente < 0.05) sugere que as variáveis não são independentes, ou seja, há uma associação entre elas.\n",
        "- **Frequências Esperadas**: Representam as frequências que seriam esperadas em cada célula da tabela se não houvesse associação entre as variáveis.\n",
        "- **Resíduos Padronizados**: São cruciais para entender *onde* a associação ocorre. Valores de resíduos padronizados maiores que 2 ou menores que -2 (em valor absoluto) indicam que a frequência observada naquela célula é significativamente maior ou menor do que a esperada sob a hipótese de independência. Por exemplo, um resíduo positivo alto para '1ª Classe' e 'Sobreviveu' indicaria que passageiros da 1ª classe sobreviveram mais do que o esperado, enquanto um resíduo negativo alto para '3ª Classe' e 'Sobreviveu' indicaria que passageiros da 3ª classe sobreviveram menos do que o esperado."
      ]
    },
    {
      "cell_type": "markdown",
      "metadata": {},
      "source": [
        "## 7. Limitações\n",
        "\n",
        "- O teste Qui-Quadrado assume que as observações são independentes e que as frequências esperadas não são muito baixas (geralmente > 5 em pelo menos 80% das células). Violações podem invalidar os resultados.\n",
        "- A análise é baseada em dados históricos e pode não generalizar para outros contextos.\n",
        "- A causalidade não pode ser inferida apenas pela associação; o teste indica apenas uma relação estatística."
      ]
    },
    {
      "cell_type": "markdown",
      "metadata": {},
      "source": [
        "## 8. Reprodutibilidade\n",
        "\n",
        "- **Semente Aleatória**: `np.random.seed(42)` foi utilizada para garantir a reprodutibilidade de quaisquer processos aleatórios.\n",
        "- **Versões das Bibliotecas**: As versões das bibliotecas utilizadas podem ser verificadas executando `pip freeze` no ambiente do projeto.\n",
        "\n",
        "**Autor:** Jesse Fernandes\n",
        "\n",
        "**Data:** 2025-09-29"
      ]
    }
  ],
  "metadata": {
    "kernelspec": {
      "display_name": "Python 3 (ipykernel)",
      "language": "python",
      "name": "python3"
    },
    "language_info": {
      "codemirror_mode": {
        "name": "ipython",
        "version": 3
      },
      "file_extension": ".py",
      "mimetype": "text/x-python",
      "name": "python",
      "nbconvert_exporter": "python",
      "pygments_lexer": "ipython3",
      "version": "3.11.5"
    }
  },
  "nbformat": 4,
  "nbformat_minor": 2
}
